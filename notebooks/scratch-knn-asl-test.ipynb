{
 "cells": [
  {
   "cell_type": "code",
   "execution_count": 1,
   "metadata": {},
   "outputs": [
    {
     "name": "stderr",
     "output_type": "stream",
     "text": [
      "INFO     : [dask_utils]: starting local dask cluster\n"
     ]
    }
   ],
   "source": [
    "%load_ext autoreload\n",
    "%autoreload 2\n",
    "%matplotlib inline\n",
    "\n",
    "from argparse import Namespace\n",
    "import misc.logging_utils as logging_utils\n",
    "\n",
    "args = Namespace()\n",
    "logger = logging_utils.get_ipython_logger()\n",
    "\n",
    "# in case we distribute to a dask cluster\n",
    "from joblib import parallel_backend\n",
    "import distributed.joblib\n",
    "import misc.dask_utils as dask_utils\n",
    "\n",
    "dask_utils.add_dask_values_to_args(args, cluster_location=\"LOCAL\", num_cpus=3, num_threads_per_cpu=1)\n",
    "client, cluster = dask_utils.connect(args)\n",
    "\n",
    "# standard pydata imports\n",
    "import matplotlib.pyplot as plt\n",
    "import numpy as np\n",
    "import pandas as pd\n",
    "import seaborn as sns; sns.set(style='white', color_codes=True)"
   ]
  },
  {
   "cell_type": "code",
   "execution_count": 2,
   "metadata": {},
   "outputs": [
    {
     "name": "stderr",
     "output_type": "stream",
     "text": [
      "WARNING  : Using NumPy C-API based implementation for BLAS functions.\n",
      "/home/nle5231/.virtualenvs/keras-test/lib/python3.6/site-packages/sklearn/cross_validation.py:44: DeprecationWarning: This module was deprecated in version 0.18 in favor of the model_selection module into which all the refactored classes and functions are moved. Also note that the interface of the new CV iterators are different from that of this module. This module will be removed in 0.20.\n",
      "  \"This module will be removed in 0.20.\", DeprecationWarning)\n",
      "DEBUG    : [utils.get_type]: could not parse type: int\n"
     ]
    }
   ],
   "source": [
    "import fancyimpute\n",
    "import numpy as np\n",
    "import pandas as pd\n",
    "\n",
    "\n",
    "import autosklearn.classification\n",
    "import autosklearn.pipeline.classification\n",
    "import sklearn.datasets\n",
    "import sklearn.model_selection\n",
    "\n",
    "import sklearn.metrics\n",
    "\n",
    "import automlutils.asl_fancyimpute\n",
    "import misc.math_utils as math_utils\n",
    "import misc.mpl_utils as mpl_utils\n",
    "import more_itertools\n",
    "\n",
    "from automlutils.autosklearn_wrapper import AutoSklearnWrapper\n",
    "import automlutils.automl_command_line_utils as clu"
   ]
  },
  {
   "cell_type": "code",
   "execution_count": 3,
   "metadata": {},
   "outputs": [],
   "source": [
    "import collections\n",
    "\n",
    "incomplete_dataset_fields = (\n",
    "    \"X_train_complete\",\n",
    "    \"X_train_incomplete\",\n",
    "    \"X_test_complete\",\n",
    "    \"X_test_incomplete\",\n",
    "    \"y_train\",\n",
    "    \"y_test\"\n",
    ")\n",
    "incomplete_dataset_fields = ' '.join(incomplete_dataset_fields)\n",
    "IncompleteDataset = collections.namedtuple(\"IncompleteDataset\", incomplete_dataset_fields)\n",
    "\n",
    "def get_mcar_incomplete_data(X, y, fold=0, num_folds=5, missing_likelihood=0.1, random_state=8675309):\n",
    "    \"\"\" Split the dataset and remove some of the observations\n",
    "    \n",
    "    Internally, this function uses an MCAR mechanism to remove the data.\n",
    "    \n",
    "    Parameters\n",
    "    ----------\n",
    "    X: data matrix\n",
    "        A data matrix suitable for sklearn\n",
    "        \n",
    "    y: target variables\n",
    "        The target variables corresponding to X\n",
    "        \n",
    "    fold: int\n",
    "        The cv fold to return\n",
    "        \n",
    "    num_folds: int\n",
    "        The number of cv folds to create\n",
    "        \n",
    "    missing_likelihood: float\n",
    "        The likelihood each observation in the training data will be missing\n",
    "        \n",
    "    random_state: int\n",
    "        An attempt to make things reproducible\n",
    "        \n",
    "    Returns (as a named tuple)\n",
    "    -------\n",
    "    X_train_complete: data matrix\n",
    "        The complete training data for this fold\n",
    "        \n",
    "    X_train_incomplete: data matrix\n",
    "        The incomplete training data for this fold\n",
    "        \n",
    "    X_test_complete: data matrix\n",
    "        The complete testing data for this fold\n",
    "        \n",
    "    X_test_incomplete: data matrix\n",
    "        The incomplete testing data for this fold\n",
    "        \n",
    "    y_train: target variables\n",
    "        The (complete) training target data for this fold\n",
    "        \n",
    "    y_test: target variables\n",
    "        The (complete) testing target data for this fold\n",
    "    \"\"\"\n",
    "    cv = sklearn.model_selection.StratifiedKFold(\n",
    "        num_folds, random_state=random_state\n",
    "    )\n",
    "\n",
    "    splits = cv.split(X, y)\n",
    "    train, test = more_itertools.nth(splits, fold) # would really use more_itertools.nth\n",
    "\n",
    "    X_train, y_train = X[train], y[train]\n",
    "    X_test, y_test = X[test], y[test]\n",
    "\n",
    "    \n",
    "    X_incomplete_train, missing_mask = math_utils.mask_random_values(\n",
    "        X_train,\n",
    "        likelihood=missing_likelihood,\n",
    "        return_mask=True,\n",
    "        random_state=random_state\n",
    "    )\n",
    "    \n",
    "    X_incomplete_test, missing_mask = math_utils.mask_random_values(\n",
    "        X_test,\n",
    "        likelihood=missing_likelihood,\n",
    "        return_mask=True,\n",
    "        random_state=random_state\n",
    "    )\n",
    "    \n",
    "    ret = IncompleteDataset(\n",
    "        X_train,\n",
    "        X_incomplete_train,\n",
    "        X_test,\n",
    "        X_incomplete_test,\n",
    "        y_train,\n",
    "        y_test\n",
    "    )\n",
    "    \n",
    "    return ret   \n",
    "    "
   ]
  },
  {
   "cell_type": "code",
   "execution_count": 4,
   "metadata": {},
   "outputs": [],
   "source": [
    "def get_classification_knn_pipeline(self):\n",
    "    from automlutils.asl_fancyimpute import ImputerChoice\n",
    "    \n",
    "    from autosklearn.pipeline.components import classification as \\\n",
    "        classification_components\n",
    "    from autosklearn.pipeline.components.data_preprocessing import rescaling as \\\n",
    "        rescaling_components\n",
    "    from autosklearn.pipeline.components.data_preprocessing.balancing.balancing import \\\n",
    "        Balancing\n",
    "    from autosklearn.pipeline.components.data_preprocessing.one_hot_encoding\\\n",
    "        .one_hot_encoding import OneHotEncoder\n",
    "    from autosklearn.pipeline.components import feature_preprocessing as \\\n",
    "        feature_preprocessing_components\n",
    "\n",
    "    steps = []\n",
    "\n",
    "    default_dataset_properties = {'target_type': 'classification'}\n",
    "\n",
    "    steps.extend(\n",
    "        [[\"one_hot_encoding\", OneHotEncoder()],\n",
    "         #[\"impute\", ImputerChoice(default_dataset_properties)],\n",
    "         [\"impute\", automlutils.asl_fancyimpute.knn.KNN()],\n",
    "         [\"rescaling\",\n",
    "          rescaling_components.RescalingChoice(default_dataset_properties)],\n",
    "         [\"balancing\", Balancing()]])\n",
    "\n",
    "    # Add the preprocessing component\n",
    "    steps.append(['preprocessor',\n",
    "                  feature_preprocessing_components.FeaturePreprocessorChoice(\n",
    "                      default_dataset_properties)])\n",
    "\n",
    "    # Add the classification component\n",
    "    steps.append(['classifier',\n",
    "                  classification_components.ClassifierChoice(\n",
    "                      default_dataset_properties)])\n",
    "    \n",
    "    return steps"
   ]
  },
  {
   "cell_type": "code",
   "execution_count": 5,
   "metadata": {},
   "outputs": [],
   "source": [
    "clu.add_automl_values_to_args(args, total_training_time=30)\n",
    "\n",
    "X, y = sklearn.datasets.load_iris(return_X_y=True)\n",
    "data = get_mcar_incomplete_data(X, y)"
   ]
  },
  {
   "cell_type": "code",
   "execution_count": 6,
   "metadata": {},
   "outputs": [
    {
     "name": "stderr",
     "output_type": "stream",
     "text": [
      "DEBUG    : [asl_wrapper]: initializing a wrapper. ensemble: None. autosklearn: None\n"
     ]
    }
   ],
   "source": [
    "asl_classifier = AutoSklearnWrapper(\n",
    "    args=args,\n",
    "    custom_pipeline=get_classification_knn_pipeline,\n",
    "    estimator_named_step='classifier'    \n",
    ")"
   ]
  },
  {
   "cell_type": "code",
   "execution_count": 7,
   "metadata": {
    "scrolled": false
   },
   "outputs": [
    {
     "name": "stderr",
     "output_type": "stream",
     "text": [
      "DEBUG    : [asl_wrapper]: creating an autosklearn classification optimizer\n",
      "DEBUG    : [asl_wrapper]: attempting to change classification pipeline\n",
      "DEBUG    : [asl_wrapper]: fitting a wrapper with metric: None\n"
     ]
    },
    {
     "name": "stdout",
     "output_type": "stream",
     "text": [
      "hey! who's this guy!?!\n",
      "Time limit for a single run is higher than total time limit. Capping the limit for a single run to the total time given to SMAC (29.522184)\n",
      "hey! who's this guy!?!\n",
      "hey! who's this guy!?!\n",
      "hey! who's this guy!?!\n",
      "hey! who's this guy!?!\n"
     ]
    },
    {
     "name": "stderr",
     "output_type": "stream",
     "text": [
      "You are already timing task: index_run2\n"
     ]
    },
    {
     "name": "stdout",
     "output_type": "stream",
     "text": [
      "hey! who's this guy!?!\n",
      "hey! who's this guy!?!\n"
     ]
    },
    {
     "name": "stderr",
     "output_type": "stream",
     "text": [
      "You are already timing task: index_run2\n"
     ]
    },
    {
     "name": "stdout",
     "output_type": "stream",
     "text": [
      "hey! who's this guy!?!\n"
     ]
    },
    {
     "name": "stderr",
     "output_type": "stream",
     "text": [
      "You are already timing task: index_run2\n"
     ]
    },
    {
     "name": "stdout",
     "output_type": "stream",
     "text": [
      "hey! who's this guy!?!\n",
      "hey! who's this guy!?!\n",
      "hey! who's this guy!?!\n"
     ]
    },
    {
     "name": "stderr",
     "output_type": "stream",
     "text": [
      "You are already timing task: index_run2\n"
     ]
    },
    {
     "name": "stdout",
     "output_type": "stream",
     "text": [
      "hey! who's this guy!?!\n"
     ]
    }
   ],
   "source": [
    "asl_classifier_fit = asl_classifier.fit(data.X_train_incomplete, data.y_train)"
   ]
  },
  {
   "cell_type": "code",
   "execution_count": 11,
   "metadata": {},
   "outputs": [],
   "source": [
    "\n",
    "y_pred_incomplete = asl_classifier_fit.predict(data.X_test_incomplete)\n",
    "y_pred_complete = asl_classifier_fit.predict(data.X_test_complete)\n",
    "\n",
    "confusion_matrix_incomplete = sklearn.metrics.confusion_matrix(data.y_test, y_pred_incomplete)\n",
    "confusion_matrix_complete = sklearn.metrics.confusion_matrix(data.y_test, y_pred_complete)\n",
    "\n"
   ]
  },
  {
   "cell_type": "code",
   "execution_count": 14,
   "metadata": {},
   "outputs": [
    {
     "data": {
      "image/png": "[encoded data removed]",
      "text/plain": [
       "<matplotlib.figure.Figure at 0x7f87b11b0208>"
      ]
     },
     "metadata": {},
     "output_type": "display_data"
    }
   ],
   "source": [
    "\n",
    "fig, axes = plt.subplots(ncols=2, figsize=(10,5))\n",
    "\n",
    "mpl_utils.plot_confusion_matrix(confusion_matrix_complete, axes[0], show_colorbar=False, title=\"Complete testing data\")\n",
    "mpl_utils.plot_confusion_matrix(confusion_matrix_complete, axes[1], show_colorbar=False, title=\"Incomplete testing data\")"
   ]
  },
  {
   "cell_type": "code",
   "execution_count": null,
   "metadata": {
    "collapsed": true
   },
   "outputs": [],
   "source": []
  },
  {
   "cell_type": "code",
   "execution_count": null,
   "metadata": {
    "collapsed": true
   },
   "outputs": [],
   "source": []
  },
  {
   "cell_type": "code",
   "execution_count": null,
   "metadata": {
    "collapsed": true
   },
   "outputs": [],
   "source": []
  },
  {
   "cell_type": "code",
   "execution_count": null,
   "metadata": {
    "collapsed": true
   },
   "outputs": [],
   "source": []
  },
  {
   "cell_type": "code",
   "execution_count": null,
   "metadata": {},
   "outputs": [],
   "source": [
    "from autosklearn.pipeline.regression import SimpleRegressionPipeline as SRP"
   ]
  },
  {
   "cell_type": "code",
   "execution_count": null,
   "metadata": {},
   "outputs": [],
   "source": [
    "from autosklearn.pipeline.classification import SimpleClassificationPipeline as SCP"
   ]
  },
  {
   "cell_type": "code",
   "execution_count": null,
   "metadata": {
    "collapsed": true
   },
   "outputs": [],
   "source": [
    "orig_get_pipeline = SCP._get_pipeline\n",
    "orig_srp_pipeline = SRP._get_pipeline"
   ]
  },
  {
   "cell_type": "code",
   "execution_count": null,
   "metadata": {},
   "outputs": [],
   "source": [
    "SCP._get_pipeline = get_classification_knn_pipeline"
   ]
  },
  {
   "cell_type": "code",
   "execution_count": null,
   "metadata": {
    "collapsed": true
   },
   "outputs": [],
   "source": [
    "classifier = autosklearn.classification.AutoSklearnClassifier(\n",
    "    time_left_for_this_task=30,\n",
    "    initial_configurations_via_metalearning=0\n",
    ")"
   ]
  },
  {
   "cell_type": "code",
   "execution_count": null,
   "metadata": {
    "collapsed": true
   },
   "outputs": [],
   "source": [
    "classifier."
   ]
  },
  {
   "cell_type": "code",
   "execution_count": null,
   "metadata": {},
   "outputs": [],
   "source": []
  },
  {
   "cell_type": "code",
   "execution_count": null,
   "metadata": {},
   "outputs": [],
   "source": [
    "classifier_fit = classifier.fit(data.X_incomplete_train, data.y_train)"
   ]
  },
  {
   "cell_type": "code",
   "execution_count": null,
   "metadata": {
    "collapsed": true
   },
   "outputs": [],
   "source": [
    "import automlutils.automl_utils as automl_utils"
   ]
  },
  {
   "cell_type": "code",
   "execution_count": null,
   "metadata": {
    "collapsed": true
   },
   "outputs": [],
   "source": [
    "import automlutils.autosklearn_wrapper as asw"
   ]
  },
  {
   "cell_type": "code",
   "execution_count": null,
   "metadata": {},
   "outputs": [],
   "source": [
    "ensemble = asw._extract_autosklearn_ensemble(classifier, estimtor_named_step=\"classifier\")"
   ]
  },
  {
   "cell_type": "code",
   "execution_count": null,
   "metadata": {
    "scrolled": false
   },
   "outputs": [],
   "source": [
    "pipeline = ensemble[1][1]"
   ]
  },
  {
   "cell_type": "code",
   "execution_count": null,
   "metadata": {},
   "outputs": [],
   "source": [
    "pipeline.named_steps"
   ]
  },
  {
   "cell_type": "code",
   "execution_count": null,
   "metadata": {
    "collapsed": true
   },
   "outputs": [],
   "source": []
  },
  {
   "cell_type": "code",
   "execution_count": null,
   "metadata": {
    "collapsed": true
   },
   "outputs": [],
   "source": []
  },
  {
   "cell_type": "code",
   "execution_count": null,
   "metadata": {
    "collapsed": true
   },
   "outputs": [],
   "source": [
    "from automlutils.autosklearn_wrapper import AutoSklearnWrapper"
   ]
  },
  {
   "cell_type": "code",
   "execution_count": null,
   "metadata": {},
   "outputs": [],
   "source": []
  },
  {
   "cell_type": "code",
   "execution_count": null,
   "metadata": {},
   "outputs": [],
   "source": [
    "confusion_matrix_incomplete"
   ]
  },
  {
   "cell_type": "code",
   "execution_count": null,
   "metadata": {},
   "outputs": [],
   "source": [
    "confusion_matrix_complete"
   ]
  },
  {
   "cell_type": "code",
   "execution_count": null,
   "metadata": {},
   "outputs": [],
   "source": [
    "mappable = ax.imshow(confusion_matrix_complete, interpolation='nearest', cmap=plt.cm.Blues)"
   ]
  },
  {
   "cell_type": "code",
   "execution_count": null,
   "metadata": {},
   "outputs": [],
   "source": [
    "mappable.norm(20)"
   ]
  },
  {
   "cell_type": "code",
   "execution_count": null,
   "metadata": {},
   "outputs": [],
   "source": []
  },
  {
   "cell_type": "code",
   "execution_count": null,
   "metadata": {},
   "outputs": [],
   "source": [
    "fig, ax = plt.subplots()\n",
    "\n",
    "y = data.y_test\n",
    "x = y_pred_incomplete\n",
    "\n",
    "ax.scatter(x, y, alpha=0.1)"
   ]
  },
  {
   "cell_type": "code",
   "execution_count": null,
   "metadata": {
    "collapsed": true
   },
   "outputs": [],
   "source": [
    "fig, ax = plt.subplots()\n",
    "\n",
    "y = data.y_test\n",
    "x = y_pred_incomplete\n",
    "\n",
    "ax.scatter(x, y, alpha=0.1)"
   ]
  }
 ],
 "metadata": {
  "kernelspec": {
   "display_name": "keras-test",
   "language": "python",
   "name": "keras-test"
  },
  "language_info": {
   "codemirror_mode": {
    "name": "ipython",
    "version": 3
   },
   "file_extension": ".py",
   "mimetype": "text/x-python",
   "name": "python",
   "nbconvert_exporter": "python",
   "pygments_lexer": "ipython3",
   "version": "3.6.1"
  }
 },
 "nbformat": 4,
 "nbformat_minor": 2
}
